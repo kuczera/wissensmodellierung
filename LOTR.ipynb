{
 "cells": [
  {
   "cell_type": "code",
   "execution_count": 5,
   "metadata": {},
   "outputs": [],
   "source": [
    "import pandas as pd\n",
    "# Define Neo4j connections\n",
    "from neo4j import GraphDatabase\n",
    "host = 'neo4j://localhost:7687'\n",
    "user = 'neo4j'\n",
    "password = 'letmein'\n",
    "driver = GraphDatabase.driver(host,auth=(user, password))"
   ]
  },
  {
   "cell_type": "code",
   "execution_count": 7,
   "metadata": {},
   "outputs": [],
   "source": [
    "def execute_query(query,params={}):\n",
    "    with driver.session() as session:\n",
    "        data = session.run(query, params)\n",
    "        return data"
   ]
  },
  {
   "cell_type": "markdown",
   "metadata": {},
   "source": [
    "## Agenda\n",
    "\n",
    "* Import Wikipedia data to Neo4j\n",
    "* Basic graph exploration\n",
    "* Populate missing value\n",
    "* Some more graph exploration\n",
    "* Weakly connected component\n",
    "* Betweenness centrality\n",
    "\n",
    "We have been using simple graph schemas for quite some time now. I am delighted to say that this time we have a bit more complicated schema. The graph schema revolves around the characters in the LOTR world. A character can be either a relative, father, mother, enemy, spouse, or sibling with another character. This represents a social network of characters with multiple types of relationships. We also have additional information about characters such as their race, country, and language. On top of that, we also know if they are part of any group or have participated in any event.\n",
    "\n",
    "## WikiData import\n",
    "\n",
    "As mentioned, we will fetch the data from the WikiData API with the help of the apoc.load.json procedure. If you don't know yet, APOC provides great support for importing data into Neo4j. Besides the ability to fetch data from any REST API, it also features integrations with other databases such as MongoDB or relational databases via the JDBC driver.\n",
    "\n",
    "P.s. You should check out Neosematics library if you work a lot with RDF data, I only noticed it after I have written the post\n",
    "\n",
    "We will start by importing all the races in the LOTR world. I have to admit I am a total noob when it comes to SPARQL, so I won't be explaining the syntax in depth. If you need a basic introduction on how to query WikiData, I suggest this tutorial on Youtube. Basically, all the races in the LOTR world are an instance of the Middle-earth races entity with id Q989255. To get the instances of a specific entity, we use the following SPARQL clause:\n",
    "\n",
    "<code>?item wdt:P31 wd:Q989255</code>\n",
    "\n",
    "This can be translated as \"We would like to fetch an item, which is an instance of (wdt:P31) an entity with an id Q989255\". After we have downloaded the data with APOC, we store the results to Neo4j."
   ]
  },
  {
   "cell_type": "code",
   "execution_count": 12,
   "metadata": {},
   "outputs": [
    {
     "data": {
      "text/plain": [
       "{'labels_added': 26, 'nodes_created': 26, 'properties_set': 78}"
      ]
     },
     "execution_count": 12,
     "metadata": {},
     "output_type": "execute_result"
    }
   ],
   "source": [
    "import_races_query = \"\"\"\n",
    "\n",
    "// Prepare a SPARQL query \n",
    "WITH 'SELECT ?item ?itemLabel \n",
    "      WHERE{ ?item wdt:P31 wd:Q989255 . \n",
    "      SERVICE wikibase:label { bd:serviceParam wikibase:language \n",
    "      \"[AUTO_LANGUAGE],en\" } }' AS sparql \n",
    "// make a request to Wikidata\n",
    "CALL apoc.load.jsonParams('https://query.wikidata.org/sparql?query=' + \n",
    "                           apoc.text.urlencode(sparql), \n",
    "                         { Accept: \"application/sparql-results+json\"}, null) \n",
    "YIELD value \n",
    "// Unwind results to row \n",
    "UNWIND value['results']['bindings'] as row \n",
    "// Prepare data \n",
    "WITH row['itemLabel']['value'] as race, \n",
    "     row['item']['value'] as url, \n",
    "     split(row['item']['value'],'/')[-1] as id \n",
    "// Store to Neo4j \n",
    "CREATE (r:Race) SET r.race = race, \n",
    "                    r.url = url, \n",
    "                    r.id = id\n",
    "\n",
    "\"\"\"\n",
    "\n",
    "r = execute_query(import_races_query)\n",
    "r.summary().counters"
   ]
  },
  {
   "cell_type": "markdown",
   "metadata": {},
   "source": [
    "That was easy. The next step is to fetch the characters that are an instance of a given Middle-earth race. The SPARQL syntax is almost identical to the previous query, except this time we iterate over each race and find the characters that are an instance of a given race."
   ]
  },
  {
   "cell_type": "code",
   "execution_count": 13,
   "metadata": {},
   "outputs": [
    {
     "data": {
      "text/plain": [
       "{'labels_added': 693, 'relationships_created': 693, 'nodes_created': 693, 'properties_set': 2079}"
      ]
     },
     "execution_count": 13,
     "metadata": {},
     "output_type": "execute_result"
    }
   ],
   "source": [
    "import_characters_query = \"\"\"\n",
    "\n",
    "// Iterate over each race in graph\n",
    "MATCH (r:Race)\n",
    "// Prepare a SparQL query\n",
    "WITH 'SELECT ?item ?itemLabel \n",
    "      WHERE { ?item wdt:P31 wd:' + r.id + ' . \n",
    "      SERVICE wikibase:label { bd:serviceParam wikibase:language \n",
    "      \"[AUTO_LANGUAGE],en\" } }' AS sparql, r \n",
    "// make a request to Wikidata \n",
    "CALL apoc.load.jsonParams( \"https://query.wikidata.org/sparql?query=\" + \n",
    "                            apoc.text.urlencode(sparql), \n",
    "                            { Accept: \"application/sparql-results+json\"}, null)\n",
    "YIELD value \n",
    "UNWIND value['results']['bindings'] as row \n",
    "WITH row['itemLabel']['value'] as name, \n",
    "     row['item']['value'] as url, \n",
    "     split(row['item']['value'],'/')[-1] as id, r \n",
    "// Store to Neo4j \n",
    "CREATE (c:Character) \n",
    "SET c.name = name, \n",
    "    c.url = url, \n",
    "    c.id = id \n",
    "CREATE (c)-[:BELONG_TO]->(r)\n",
    "\n",
    "\"\"\"\n",
    "\n",
    "r = execute_query(import_characters_query)\n",
    "r.summary().counters"
   ]
  },
  {
   "cell_type": "markdown",
   "metadata": {},
   "source": [
    "Did you know that there are at least 700 characters in the Middle-earth world? I would never guess there would be so many documented characters on WikiData. Our first exploratory cypher query will be to count the characters by race."
   ]
  },
  {
   "cell_type": "code",
   "execution_count": 14,
   "metadata": {},
   "outputs": [
    {
     "data": {
      "text/html": [
       "<div>\n",
       "<style scoped>\n",
       "    .dataframe tbody tr th:only-of-type {\n",
       "        vertical-align: middle;\n",
       "    }\n",
       "\n",
       "    .dataframe tbody tr th {\n",
       "        vertical-align: top;\n",
       "    }\n",
       "\n",
       "    .dataframe thead th {\n",
       "        text-align: right;\n",
       "    }\n",
       "</style>\n",
       "<table border=\"1\" class=\"dataframe\">\n",
       "  <thead>\n",
       "    <tr style=\"text-align: right;\">\n",
       "      <th></th>\n",
       "      <th>race</th>\n",
       "      <th>members</th>\n",
       "    </tr>\n",
       "  </thead>\n",
       "  <tbody>\n",
       "    <tr>\n",
       "      <th>0</th>\n",
       "      <td>men in Tolkien's legendarium</td>\n",
       "      <td>344</td>\n",
       "    </tr>\n",
       "    <tr>\n",
       "      <th>1</th>\n",
       "      <td>Hobbit</td>\n",
       "      <td>150</td>\n",
       "    </tr>\n",
       "    <tr>\n",
       "      <th>2</th>\n",
       "      <td>Middle-earth elf</td>\n",
       "      <td>83</td>\n",
       "    </tr>\n",
       "    <tr>\n",
       "      <th>3</th>\n",
       "      <td>dwarves in Tolkien's legendarium</td>\n",
       "      <td>52</td>\n",
       "    </tr>\n",
       "    <tr>\n",
       "      <th>4</th>\n",
       "      <td>Valar</td>\n",
       "      <td>16</td>\n",
       "    </tr>\n",
       "    <tr>\n",
       "      <th>5</th>\n",
       "      <td>half-elven</td>\n",
       "      <td>12</td>\n",
       "    </tr>\n",
       "    <tr>\n",
       "      <th>6</th>\n",
       "      <td>Maiar</td>\n",
       "      <td>10</td>\n",
       "    </tr>\n",
       "    <tr>\n",
       "      <th>7</th>\n",
       "      <td>Orcs in Tolkien's legendarium</td>\n",
       "      <td>10</td>\n",
       "    </tr>\n",
       "    <tr>\n",
       "      <th>8</th>\n",
       "      <td>Ent</td>\n",
       "      <td>5</td>\n",
       "    </tr>\n",
       "    <tr>\n",
       "      <th>9</th>\n",
       "      <td>dragons of Middle-earth</td>\n",
       "      <td>4</td>\n",
       "    </tr>\n",
       "  </tbody>\n",
       "</table>\n",
       "</div>"
      ],
      "text/plain": [
       "                               race  members\n",
       "0      men in Tolkien's legendarium      344\n",
       "1                            Hobbit      150\n",
       "2                  Middle-earth elf       83\n",
       "3  dwarves in Tolkien's legendarium       52\n",
       "4                             Valar       16\n",
       "5                        half-elven       12\n",
       "6                             Maiar       10\n",
       "7     Orcs in Tolkien's legendarium       10\n",
       "8                               Ent        5\n",
       "9           dragons of Middle-earth        4"
      ]
     },
     "execution_count": 14,
     "metadata": {},
     "output_type": "execute_result"
    }
   ],
   "source": [
    "race_size_query = \"\"\"\n",
    "\n",
    "MATCH (r:Race) \n",
    "RETURN r.race as race, \n",
    "       size((r)<-[:BELONG_TO]-()) as members \n",
    "ORDER BY members DESC \n",
    "LIMIT 10\n",
    "\n",
    "\"\"\"\n",
    "\n",
    "[dict(row) for row in execute_query(race_size_query)]"
   ]
  },
  {
   "cell_type": "markdown",
   "metadata": {},
   "source": [
    "The Fellowship of the Ring group is a somewhat representative sample of races in the Middle-earth. Most of the characters are either human or hobbits, with a couple of elves and dwarves strolling by. This is the first time I have heard of Valar and Maiar races though.\n",
    "\n",
    "Now it is time to enrich the graph with information about characters' gender, country, and manner of death. The SPARQL query will be a bit different than before. This time we will select a WikiData entity directly by its unique id and optionally fetch some of its properties. We can filter a specific entity by its id using the following SPARQL clause:\n",
    "\n",
    "<code>filter (?item = wd:' + r.id + ')</code>\n",
    "\n",
    "Similar to the cypher query language, SPARQL also differentiates between a MATCH and an OPTIONAL MATCH. When we want to return multiple properties of an entity, it is best to wrap each property into an OPTIONAL MATCH. This way we will get results if any of the properties exist. Without the OPTIONAL MATCH, we would only get results for entities where all three properties exist. This is an identical behavior to cypher.\n",
    "<code>\n",
    "OPTIONAL{ ?item wdt:P21 [rdfs:label ?gender] . \n",
    "           filter (lang(?gender)=\"en\") }\n",
    "</code>\n",
    "The <code>wdt:P21</code> indicates we are interested in the gender property.  We also specify that we want to get the English label of an entity instead of its WikiData id. The easiest way to search for the desired property id is to inspect the entity on the WikiData web page and hover over a property name.\n",
    "\n",
    "Another way is to use the WikiData query editor, which has a great autocomplete function by using the CTRL+T command.\n",
    "\n",
    "To store the results back to Neo4j we will use the <code>FOREACH</code> trick. Because some of our results will contain null values, we have to wrap the <code>MERGE</code> statement into the <code>FOREACH</code> statement which supports conditional execution. Check the Tips and tricks blog post by Michael Hunger for more information."
   ]
  },
  {
   "cell_type": "code",
   "execution_count": 15,
   "metadata": {},
   "outputs": [
    {
     "data": {
      "text/plain": [
       "{'labels_added': 18, 'relationships_created': 236, 'nodes_created': 18, 'properties_set': 703}"
      ]
     },
     "execution_count": 15,
     "metadata": {},
     "output_type": "execute_result"
    }
   ],
   "source": [
    "import_gender_query = \"\"\"\n",
    "\n",
    "// Iterate over characters \n",
    "MATCH (r:Character) \n",
    "// Prepare a SparQL query \n",
    "WITH 'SELECT * \n",
    "      WHERE{ ?item rdfs:label ?name . \n",
    "              filter (?item = wd:' + r.id + ') \n",
    "              filter (lang(?name) = \"en\" ) . \n",
    "      OPTIONAL{ ?item wdt:P21 [rdfs:label ?gender] . \n",
    "                filter (lang(?gender)=\"en\") } \n",
    "      OPTIONAL{ ?item wdt:P27 [rdfs:label ?country] . \n",
    "              filter (lang(?country)=\"en\") } \n",
    "      OPTIONAL{ ?item wdt:P1196 [rdfs:label ?death] . \n",
    "              filter (lang(?death)=\"en\") }}' AS sparql, r \n",
    "// make a request to Wikidata \n",
    "CALL apoc.load.jsonParams( \"https://query.wikidata.org/sparql?query=\" \n",
    "    + apoc.text.urlencode(sparql), \n",
    "    { Accept: \"application/sparql-results+json\"}, null)\n",
    "YIELD value \n",
    "UNWIND value['results']['bindings'] as row \n",
    "SET r.gender = row['gender']['value'], \n",
    "    r.manner_of_death = row['death']['value'] \n",
    "// Execute FOREACH statement \n",
    "FOREACH(ignoreme in case when row['country'] is not null then [1] else [] end | \n",
    "    MERGE (c:Country{name:row['country']['value']}) \n",
    "    MERGE (r)-[:IN_COUNTRY]->(c))\n",
    "\n",
    "\"\"\"\n",
    "\n",
    "r = execute_query(import_gender_query)\n",
    "r.summary().counters"
   ]
  },
  {
   "cell_type": "markdown",
   "metadata": {},
   "source": [
    "We are connecting additional information to our graph bit by bit and slowly transforming it into a knowledge graph. Let's first look at the manner of death property."
   ]
  },
  {
   "cell_type": "code",
   "execution_count": 16,
   "metadata": {},
   "outputs": [
    {
     "data": {
      "text/html": [
       "<div>\n",
       "<style scoped>\n",
       "    .dataframe tbody tr th:only-of-type {\n",
       "        vertical-align: middle;\n",
       "    }\n",
       "\n",
       "    .dataframe tbody tr th {\n",
       "        vertical-align: top;\n",
       "    }\n",
       "\n",
       "    .dataframe thead th {\n",
       "        text-align: right;\n",
       "    }\n",
       "</style>\n",
       "<table border=\"1\" class=\"dataframe\">\n",
       "  <thead>\n",
       "    <tr style=\"text-align: right;\">\n",
       "      <th></th>\n",
       "      <th>manner_of_death</th>\n",
       "      <th>count</th>\n",
       "    </tr>\n",
       "  </thead>\n",
       "  <tbody>\n",
       "    <tr>\n",
       "      <th>0</th>\n",
       "      <td>accident</td>\n",
       "      <td>1</td>\n",
       "    </tr>\n",
       "    <tr>\n",
       "      <th>1</th>\n",
       "      <td>homicide</td>\n",
       "      <td>3</td>\n",
       "    </tr>\n",
       "    <tr>\n",
       "      <th>2</th>\n",
       "      <td>death in battle</td>\n",
       "      <td>1</td>\n",
       "    </tr>\n",
       "  </tbody>\n",
       "</table>\n",
       "</div>"
      ],
      "text/plain": [
       "   manner_of_death  count\n",
       "0         accident      1\n",
       "1         homicide      3\n",
       "2  death in battle      1"
      ]
     },
     "execution_count": 16,
     "metadata": {},
     "output_type": "execute_result"
    }
   ],
   "source": [
    "manner_of_death_query = \"\"\"\n",
    "\n",
    "MATCH (n:Character) \n",
    "WHERE exists (n.manner_of_death) \n",
    "RETURN n.manner_of_death as manner_of_death, \n",
    "       count(*) as count\n",
    "\n",
    "\"\"\"\n",
    "\n",
    "r = execute_query(manner_of_death_query)\n",
    "pd.DataFrame([dict(row) for row in r])"
   ]
  },
  {
   "cell_type": "markdown",
   "metadata": {},
   "source": [
    "Nothing of interest. This is obviously not the Game of Thrones series. Let's also inspect the results of the country property."
   ]
  },
  {
   "cell_type": "code",
   "execution_count": 17,
   "metadata": {},
   "outputs": [
    {
     "data": {
      "text/html": [
       "<div>\n",
       "<style scoped>\n",
       "    .dataframe tbody tr th:only-of-type {\n",
       "        vertical-align: middle;\n",
       "    }\n",
       "\n",
       "    .dataframe tbody tr th {\n",
       "        vertical-align: top;\n",
       "    }\n",
       "\n",
       "    .dataframe thead th {\n",
       "        text-align: right;\n",
       "    }\n",
       "</style>\n",
       "<table border=\"1\" class=\"dataframe\">\n",
       "  <thead>\n",
       "    <tr style=\"text-align: right;\">\n",
       "      <th></th>\n",
       "      <th>country</th>\n",
       "      <th>members</th>\n",
       "    </tr>\n",
       "  </thead>\n",
       "  <tbody>\n",
       "    <tr>\n",
       "      <th>0</th>\n",
       "      <td>Gondor</td>\n",
       "      <td>70</td>\n",
       "    </tr>\n",
       "    <tr>\n",
       "      <th>1</th>\n",
       "      <td>Shire</td>\n",
       "      <td>48</td>\n",
       "    </tr>\n",
       "    <tr>\n",
       "      <th>2</th>\n",
       "      <td>Númenor</td>\n",
       "      <td>34</td>\n",
       "    </tr>\n",
       "    <tr>\n",
       "      <th>3</th>\n",
       "      <td>Rohan</td>\n",
       "      <td>34</td>\n",
       "    </tr>\n",
       "    <tr>\n",
       "      <th>4</th>\n",
       "      <td>Arthedain</td>\n",
       "      <td>17</td>\n",
       "    </tr>\n",
       "    <tr>\n",
       "      <th>5</th>\n",
       "      <td>Arnor</td>\n",
       "      <td>8</td>\n",
       "    </tr>\n",
       "    <tr>\n",
       "      <th>6</th>\n",
       "      <td>Doriath</td>\n",
       "      <td>6</td>\n",
       "    </tr>\n",
       "    <tr>\n",
       "      <th>7</th>\n",
       "      <td>Reunited Kingdom</td>\n",
       "      <td>3</td>\n",
       "    </tr>\n",
       "    <tr>\n",
       "      <th>8</th>\n",
       "      <td>Gondolin</td>\n",
       "      <td>3</td>\n",
       "    </tr>\n",
       "    <tr>\n",
       "      <th>9</th>\n",
       "      <td>Lothlórien</td>\n",
       "      <td>3</td>\n",
       "    </tr>\n",
       "  </tbody>\n",
       "</table>\n",
       "</div>"
      ],
      "text/plain": [
       "            country  members\n",
       "0            Gondor       70\n",
       "1             Shire       48\n",
       "2           Númenor       34\n",
       "3             Rohan       34\n",
       "4         Arthedain       17\n",
       "5             Arnor        8\n",
       "6           Doriath        6\n",
       "7  Reunited Kingdom        3\n",
       "8          Gondolin        3\n",
       "9        Lothlórien        3"
      ]
     },
     "execution_count": 17,
     "metadata": {},
     "output_type": "execute_result"
    }
   ],
   "source": [
    "country_info_query = \"\"\"\n",
    "\n",
    "MATCH (c:Country)\n",
    "RETURN c.name as country, \n",
    "       size((c)<-[:IN_COUNTRY]-()) as members\n",
    "ORDER BY members DESC \n",
    "LIMIT 10\n",
    "\n",
    "\"\"\"\n",
    "\n",
    "r = execute_query(country_info_query)\n",
    "pd.DataFrame([dict(row) for row in r])"
   ]
  },
  {
   "cell_type": "markdown",
   "metadata": {},
   "source": [
    "We have the country information for 236 characters. We could make some hypotheses and try to populate missing country values. Let's assume that if two characters are siblings, they belong to the same country. This makes a lot of sense. To be able to achieve this, we have to import the familial ties from WikiData. Specifically, we will fetch the father, mother, relative, sibling, and spouse connections."
   ]
  },
  {
   "cell_type": "code",
   "execution_count": 18,
   "metadata": {},
   "outputs": [
    {
     "data": {
      "text/plain": [
       "{'labels_added': 4, 'relationships_created': 968, 'nodes_created': 4, 'properties_set': 4}"
      ]
     },
     "execution_count": 18,
     "metadata": {},
     "output_type": "execute_result"
    }
   ],
   "source": [
    "import_social_query = \"\"\"\n",
    "\n",
    "// Iterate over characters \n",
    "MATCH (r:Character) \n",
    "WITH 'SELECT * \n",
    "      WHERE{ ?item rdfs:label ?name . \n",
    "             filter (?item = wd:' + r.id + ') \n",
    "             filter (lang(?name) = \"en\" ) . \n",
    "      OPTIONAL{ ?item wdt:P22 ?father } \n",
    "      OPTIONAL{ ?item wdt:P25 ?mother } \n",
    "      OPTIONAL{ ?item wdt:P1038 ?relative } \n",
    "      OPTIONAL{ ?item wdt:P3373 ?sibling } \n",
    "      OPTIONAL{ ?item wdt:P26 ?spouse }}' AS sparql, r \n",
    "// make a request to wikidata \n",
    "CALL apoc.load.jsonParams( \"https://query.wikidata.org/sparql?query=\" + \n",
    "    apoc.text.urlencode(sparql), \n",
    "    { Accept: \"application/sparql-results+json\"}, null) YIELD value \n",
    "UNWIND value['results']['bindings'] as row \n",
    "FOREACH(ignoreme in case when row['mother'] is not null then [1] else [] end | \n",
    "    MERGE (c:Character{url:row['mother']['value']}) \n",
    "    MERGE (r)-[:HAS_MOTHER]->(c)) \n",
    "FOREACH(ignoreme in case when row['father'] is not null then [1] else [] end | \n",
    "    MERGE (c:Character{url:row['father']['value']}) \n",
    "    MERGE (r)-[:HAS_FATHER]->(c)) \n",
    "FOREACH(ignoreme in case when row['relative'] is not null then [1] else [] end | \n",
    "    MERGE (c:Character{url:row['relative']['value']}) \n",
    "    MERGE (r)-[:HAS_RELATIVE]-(c)) \n",
    "FOREACH(ignoreme in case when row['sibling'] is not null then [1] else [] end | \n",
    "    MERGE (c:Character{url:row['sibling']['value']}) \n",
    "    MERGE (r)-[:SIBLING]-(c))\n",
    "FOREACH(ignoreme in case when row['spouse'] is not null then [1] else [] end | \n",
    "    MERGE (c:Character{url:row['spouse']['value']}) \n",
    "    MERGE (r)-[:SPOUSE]-(c))\n",
    "\n",
    "\"\"\"\n",
    "\n",
    "r = execute_query(import_social_query)\n",
    "r.summary().counters"
   ]
  },
  {
   "cell_type": "markdown",
   "metadata": {},
   "source": [
    "Before we begin filling-in missing values, let's check for promiscuity in the Middle-earth. The first query will search for characters with multiple spouses."
   ]
  },
  {
   "cell_type": "code",
   "execution_count": 72,
   "metadata": {},
   "outputs": [
    {
     "name": "stdout",
     "output_type": "stream",
     "text": [
      "['Indis', 'Finwë', 'Míriel']\n",
      "['Míriel', 'Finwë', 'Indis']\n"
     ]
    }
   ],
   "source": [
    "multiple_spouses_query = \"\"\"\n",
    "\n",
    "MATCH p=(a)-[:SPOUSE]-(b)-[:SPOUSE]-(c) \n",
    "RETURN p LIMIT 10\n",
    "\n",
    "\"\"\"\n",
    "\n",
    "r = execute_query(multiple_spouses_query)\n",
    "for record in r:\n",
    "    print([node['name'] for node in record['p'].nodes])"
   ]
  },
  {
   "cell_type": "markdown",
   "metadata": {},
   "source": [
    "We actually found a single character with two spouses. It is Finwë, the first King of the Noldor. We can also take a look if someone has kids with multiple partners"
   ]
  },
  {
   "cell_type": "code",
   "execution_count": 73,
   "metadata": {},
   "outputs": [
    {
     "name": "stdout",
     "output_type": "stream",
     "text": [
      "['Finwë', 'Irimë', 'Indis']\n",
      "['Finwë', 'Finarfin', 'Indis']\n",
      "['Finwë', 'Fëanor', 'Míriel']\n",
      "['Finwë', 'Findis', 'Indis']\n",
      "['Finwë', 'Fingolfin', 'Indis']\n",
      "['Egalmoth', 'Beren', 'Belemir']\n",
      "['Egalmoth', 'Beren', 'Adanel']\n",
      "['Adanel', 'Beren', 'Belemir']\n",
      "['Adanel', 'Beren', 'Egalmoth']\n",
      "['Belemir', 'Beren', 'Egalmoth']\n",
      "['Belemir', 'Beren', 'Adanel']\n"
     ]
    }
   ],
   "source": [
    "multiple_kids_query = \"\"\"\n",
    "\n",
    "MATCH (c:Character)<-[:HAS_FATHER|HAS_MOTHER]-()-[:HAS_FATHER|HAS_MOTHER]->(other) \n",
    "WITH c, collect(distinct other) as others \n",
    "WHERE size(others) > 1 \n",
    "MATCH p=(c)<-[:HAS_FATHER|HAS_MOTHER]-()-[:HAS_FATHER|HAS_MOTHER]->() \n",
    "RETURN p\n",
    "\n",
    "\"\"\"\n",
    "\n",
    "r = execute_query(multiple_kids_query)\n",
    "for record in r:\n",
    "    print([node['name'] for node in record['p'].nodes])"
   ]
  },
  {
   "cell_type": "markdown",
   "metadata": {},
   "source": [
    "So it seems that Finwë has four children with Indis and a single child with Míriel. On the other hand, it is quite weird that Beren has two fathers. I guess Adanel has some explaining to do. We would probably find more death and promiscuity in the GoT world.\n",
    "\n",
    "## Populate missing values\n",
    "\n",
    "Now that we know that the Middle-earth characters abstain from promiscuity, let's populate the missing country values. Remember our hypothesis was:\n",
    "\n",
    ">If two characters are siblings, they belong to the same country.\n",
    "\n",
    "Before we populate the missing values for countries, let's populate the missing values for siblings. We will assume that if two characters have the same mother or father, they are siblings. Let's look at some sibling candidates."
   ]
  },
  {
   "cell_type": "code",
   "execution_count": 74,
   "metadata": {},
   "outputs": [],
   "source": [
    "sibling_candidate_query = \"\"\"\n",
    "\n",
    "MATCH p=(a:Character)-[:HAS_FATHER|:HAS_MOTHER]->()<-[:HAS_FATHER|:HAS_MOTHER]-(b:Character) \n",
    "WHERE NOT (a)-[:SIBLING]-(b) \n",
    "RETURN p LIMIT 5\n",
    "\n",
    "\"\"\"\n",
    "\n",
    "r = execute_query(sibling_candidate_query)\n",
    "for record in r:\n",
    "    print([node['name'] for node in record['p'].nodes])"
   ]
  },
  {
   "cell_type": "markdown",
   "metadata": {},
   "source": [
    "Adamanta Chubb has at least six children. Only two of them are marked as siblings. Because all of them are siblings by definition, we will fill in the missing connections."
   ]
  },
  {
   "cell_type": "code",
   "execution_count": 26,
   "metadata": {},
   "outputs": [
    {
     "data": {
      "text/plain": [
       "{'relationships_created': 118}"
      ]
     },
     "execution_count": 26,
     "metadata": {},
     "output_type": "execute_result"
    }
   ],
   "source": [
    "sibling_populate_query = \"\"\"\n",
    "\n",
    "MATCH p=(a:Character)-[:HAS_FATHER|:HAS_MOTHER]->()<-[:HAS_FATHER|:HAS_MOTHER]-(b:Character) \n",
    "WHERE NOT (a)-[:SIBLING]-(b) \n",
    "MERGE (a)-[:SIBLING]-(b)\n",
    "\n",
    "\"\"\"\n",
    "r = execute_query(sibling_populate_query)\n",
    "r.summary().counters"
   ]
  },
  {
   "cell_type": "markdown",
   "metadata": {},
   "source": [
    "The query added 118 missing relationships. I need to learn how to update the WikiData knowledge graph and add the missing relationships in bulk. Now we can fill in the missing country values for siblings. We will match all characters with the filled in country information and search for their siblings that don't have the country information. I love how easy it is to express this pattern with cypher query language."
   ]
  },
  {
   "cell_type": "code",
   "execution_count": 27,
   "metadata": {},
   "outputs": [
    {
     "data": {
      "text/plain": [
       "{'relationships_created': 49}"
      ]
     },
     "execution_count": 27,
     "metadata": {},
     "output_type": "execute_result"
    }
   ],
   "source": [
    "country_populate_query = \"\"\"\n",
    "\n",
    "MATCH (country)<-[:IN_COUNTRY]-(s:Character)-[:SIBLING]-(t:Character) \n",
    "WHERE NOT (t)-[:IN_COUNTRY]->() \n",
    "MERGE (t)-[:IN_COUNTRY]->(country)\n",
    "\n",
    "\"\"\"\n",
    "r = execute_query(country_populate_query)\n",
    "r.summary().counters"
   ]
  },
  {
   "cell_type": "markdown",
   "metadata": {},
   "source": [
    "There were 49 missing countries added. We could easily come up with more hypotheses to fill in the missing values. You can try and maybe add some other missing values yourself.\n",
    "\n",
    "We still have to add some information to our graph. In this query, we will add the information about the occupation, language, groups, and events of characters. The SPARQL query is identical to before where we iterate over each character and fetch additional properties."
   ]
  },
  {
   "cell_type": "code",
   "execution_count": 40,
   "metadata": {},
   "outputs": [
    {
     "data": {
      "text/plain": [
       "{'labels_added': 28, 'relationships_created': 226, 'nodes_created': 28, 'properties_set': 222}"
      ]
     },
     "execution_count": 40,
     "metadata": {},
     "output_type": "execute_result"
    }
   ],
   "source": [
    "import_groups_query = \"\"\"\n",
    "\n",
    "MATCH (r:Character) \n",
    "WHERE exists (r.id) \n",
    "WITH 'SELECT * \n",
    "      WHERE{ ?item rdfs:label ?name . \n",
    "             filter (?item = wd:' + r.id + ') \n",
    "             filter (lang(?name) = \"en\" ) . \n",
    "      OPTIONAL { ?item wdt:P106 [rdfs:label ?occupation ] . \n",
    "           filter (lang(?occupation) = \"en\" ). } \n",
    "      OPTIONAL { ?item wdt:P103 [rdfs:label ?language ] . \n",
    "           filter (lang(?language) = \"en\" ) . } \n",
    "      OPTIONAL { ?item wdt:P463 [rdfs:label ?member_of ] . \n",
    "           filter (lang(?member_of) = \"en\" ). } \n",
    "      OPTIONAL { ?item wdt:P1344[rdfs:label ?participant ] . \n",
    "           filter (lang(?participant) = \"en\") . } \n",
    "      OPTIONAL { ?item wdt:P39[rdfs:label ?position ] . \n",
    "           filter (lang(?position) = \"en\") . }}' AS sparql, r \n",
    "CALL apoc.load.jsonParams( \"https://query.wikidata.org/sparql?query=\" + \n",
    "                             apoc.text.urlencode(sparql), \n",
    "                             { Accept: \"application/sparql-results+json\"}, null) \n",
    "YIELD value \n",
    "UNWIND value['results']['bindings'] as row \n",
    "FOREACH(ignoreme in case when row['language'] is not null then [1] else [] end | \n",
    "        MERGE (c:Language{name:row['language']['value']}) \n",
    "        MERGE (r)-[:HAS_LANGUAGE]->(c)) \n",
    "FOREACH(ignoreme in case when row['occupation'] is not null then [1] else [] end | \n",
    "        MERGE (c:Occupation{name:row['occupation']['value']}) \n",
    "        MERGE (r)-[:HAS_OCCUPATION]->(c)) \n",
    "FOREACH(ignoreme in case when row['member_of'] is not null then [1] else [] end | \n",
    "        MERGE (c:Group{name:row['member_of']['value']}) \n",
    "        MERGE (r)-[:MEMBER_OF]->(c)) \n",
    "FOREACH(ignoreme in case when row['participant'] is not null then [1] else [] end | \n",
    "        MERGE (c:Event{name:row['participant']['value']}) \n",
    "        MERGE (r)-[:PARTICIPATED]->(c)) \n",
    "SET r.position = row['position']['value']\n",
    "\n",
    "\"\"\"\n",
    "r = execute_query(import_groups_query)\n",
    "r.summary().counters"
   ]
  },
  {
   "cell_type": "markdown",
   "metadata": {},
   "source": [
    "Let's investigate the results of the groups and the occupation of the characters."
   ]
  },
  {
   "cell_type": "code",
   "execution_count": 41,
   "metadata": {},
   "outputs": [
    {
     "data": {
      "text/html": [
       "<div>\n",
       "<style scoped>\n",
       "    .dataframe tbody tr th:only-of-type {\n",
       "        vertical-align: middle;\n",
       "    }\n",
       "\n",
       "    .dataframe tbody tr th {\n",
       "        vertical-align: top;\n",
       "    }\n",
       "\n",
       "    .dataframe thead th {\n",
       "        text-align: right;\n",
       "    }\n",
       "</style>\n",
       "<table border=\"1\" class=\"dataframe\">\n",
       "  <thead>\n",
       "    <tr style=\"text-align: right;\">\n",
       "      <th></th>\n",
       "      <th>group</th>\n",
       "      <th>size</th>\n",
       "      <th>members</th>\n",
       "      <th>occupations</th>\n",
       "    </tr>\n",
       "  </thead>\n",
       "  <tbody>\n",
       "    <tr>\n",
       "      <th>0</th>\n",
       "      <td>Thorin and Company</td>\n",
       "      <td>14</td>\n",
       "      <td>[Nori, Thorin II, Óin]</td>\n",
       "      <td>[swordsman, diarist]</td>\n",
       "    </tr>\n",
       "    <tr>\n",
       "      <th>1</th>\n",
       "      <td>Fellowship of the Ring</td>\n",
       "      <td>8</td>\n",
       "      <td>[Gandalf, Legolas, Meriadoc Brandybuck]</td>\n",
       "      <td>[archer, swordsman]</td>\n",
       "    </tr>\n",
       "    <tr>\n",
       "      <th>2</th>\n",
       "      <td>White Council</td>\n",
       "      <td>2</td>\n",
       "      <td>[Elrond, Gandalf]</td>\n",
       "      <td>[]</td>\n",
       "    </tr>\n",
       "    <tr>\n",
       "      <th>3</th>\n",
       "      <td>Rangers of Ithilien</td>\n",
       "      <td>2</td>\n",
       "      <td>[Madril, Damrod]</td>\n",
       "      <td>[]</td>\n",
       "    </tr>\n",
       "    <tr>\n",
       "      <th>4</th>\n",
       "      <td>Union of Maedhros</td>\n",
       "      <td>2</td>\n",
       "      <td>[Halmir, Haldir]</td>\n",
       "      <td>[]</td>\n",
       "    </tr>\n",
       "    <tr>\n",
       "      <th>5</th>\n",
       "      <td>Wise</td>\n",
       "      <td>2</td>\n",
       "      <td>[Andreth, Adanel]</td>\n",
       "      <td>[]</td>\n",
       "    </tr>\n",
       "    <tr>\n",
       "      <th>6</th>\n",
       "      <td>Istari</td>\n",
       "      <td>1</td>\n",
       "      <td>[Gandalf]</td>\n",
       "      <td>[]</td>\n",
       "    </tr>\n",
       "    <tr>\n",
       "      <th>7</th>\n",
       "      <td>White Company</td>\n",
       "      <td>1</td>\n",
       "      <td>[Beregond]</td>\n",
       "      <td>[]</td>\n",
       "    </tr>\n",
       "  </tbody>\n",
       "</table>\n",
       "</div>"
      ],
      "text/plain": [
       "                    group  size                                  members  \\\n",
       "0      Thorin and Company    14                   [Nori, Thorin II, Óin]   \n",
       "1  Fellowship of the Ring     8  [Gandalf, Legolas, Meriadoc Brandybuck]   \n",
       "2           White Council     2                        [Elrond, Gandalf]   \n",
       "3     Rangers of Ithilien     2                         [Madril, Damrod]   \n",
       "4       Union of Maedhros     2                         [Halmir, Haldir]   \n",
       "5                    Wise     2                        [Andreth, Adanel]   \n",
       "6                  Istari     1                                [Gandalf]   \n",
       "7           White Company     1                               [Beregond]   \n",
       "\n",
       "            occupations  \n",
       "0  [swordsman, diarist]  \n",
       "1   [archer, swordsman]  \n",
       "2                    []  \n",
       "3                    []  \n",
       "4                    []  \n",
       "5                    []  \n",
       "6                    []  \n",
       "7                    []  "
      ]
     },
     "execution_count": 41,
     "metadata": {},
     "output_type": "execute_result"
    }
   ],
   "source": [
    "investigate_groups_query = \"\"\"\n",
    "\n",
    "MATCH (n:Group)<-[:MEMBER_OF]-(c)\n",
    "OPTIONAL MATCH (c)-[:HAS_OCCUPATION]->(o) \n",
    "RETURN n.name as group, \n",
    "       count(*) as size, \n",
    "       collect(c.name)[..3] as members, \n",
    "       collect(distinct o.name)[..3] as occupations \n",
    "ORDER BY size DESC\n",
    "\n",
    "\"\"\"\n",
    "\n",
    "r = execute_query(investigate_groups_query)\n",
    "pd.DataFrame([dict(row) for row in r])"
   ]
  },
  {
   "cell_type": "markdown",
   "metadata": {},
   "source": [
    "It was at this moment that I realized the whole Hobbit series are included. Balin was the diarist for the Thorin and Company group. For some reason, I was expecting Bilbo Baggins to be the diarist. Obviously, there can be only one archer in the Fellowship of the Ring group, and that is Legolas. Gandalf seems to be involved in a couple of groups.\n",
    "\n",
    "We will execute one more WikiData API call. This time we will fetch the enemies and the items the characters own."
   ]
  },
  {
   "cell_type": "code",
   "execution_count": 42,
   "metadata": {},
   "outputs": [
    {
     "data": {
      "text/plain": [
       "{'properties_set': 194}"
      ]
     },
     "execution_count": 42,
     "metadata": {},
     "output_type": "execute_result"
    }
   ],
   "source": [
    "import_enemy_query = \"\"\"\n",
    "\n",
    "MATCH (r:Character) \n",
    "WHERE exists (r.id) \n",
    "WITH 'SELECT * \n",
    "      WHERE { ?item rdfs:label ?name . \n",
    "              filter (?item = wd:' + r.id + ') \n",
    "              filter (lang(?name) = \"en\" ) . \n",
    "      OPTIONAL{ ?item wdt:P1830 [rdfs:label ?owner ] . \n",
    "            filter (lang(?owner) = \"en\" ). } \n",
    "      OPTIONAL{ ?item wdt:P7047 ?enemy }}' AS sparql, r \n",
    "CALL apoc.load.jsonParams( \"https://query.wikidata.org/sparql?query=\" + \n",
    "                            apoc.text.urlencode(sparql), \n",
    "                            { Accept: \"application/sparql-results+json\"}, null) \n",
    "YIELD value \n",
    "WITH value,r \n",
    "WHERE value['results']['bindings'] <> [] \n",
    "UNWIND value['results']['bindings'] as row \n",
    "FOREACH(ignoreme in case when row['owner'] is not null then [1] else [] end |\n",
    "    MERGE (c:Item{name:row['owner']['value']}) \n",
    "    MERGE (r)-[:OWNS_ITEM]->(c)) \n",
    "FOREACH(ignoreme in case when row['enemy'] is not null then [1] else [] end | \n",
    "    MERGE (c:Character{url:row['enemy']['value']}) \n",
    "    MERGE (r)-[:ENEMY]->(c))\n",
    "\n",
    "\"\"\"\n",
    "\n",
    "r = execute_query(import_enemy_query)\n",
    "r.summary().counters"
   ]
  },
  {
   "cell_type": "markdown",
   "metadata": {},
   "source": [
    "Finally, we have finished importing our graph. Let's look at how many enemies are there between direct family members."
   ]
  },
  {
   "cell_type": "code",
   "execution_count": 77,
   "metadata": {},
   "outputs": [
    {
     "name": "stdout",
     "output_type": "stream",
     "text": [
      "['Manwë', 'Morgoth']\n",
      "['Morgoth', 'Manwë']\n"
     ]
    }
   ],
   "source": [
    "family_enemy_query = \"\"\"\n",
    "\n",
    "MATCH p=(a)-[:SPOUSE|SIBLING|HAS_FATHER|HAS_MOTHER]-(b) \n",
    "WHERE (a)-[:ENEMY]-(b) \n",
    "RETURN p\n",
    "\n",
    "\"\"\"\n",
    "r = execute_query(family_enemy_query)\n",
    "for record in r:\n",
    "    print([node['name'] for node in record['p'].nodes])"
   ]
  },
  {
   "cell_type": "markdown",
   "metadata": {},
   "source": [
    "It looks like Morgoth and Manwë are brothers and enemies. This is the first time I have heard of the two, but LOTR fandom site claims Morgoth was the first Dark Lord. Let's look at how many enemies are within the second-degree relatives."
   ]
  },
  {
   "cell_type": "code",
   "execution_count": 79,
   "metadata": {},
   "outputs": [
    {
     "name": "stdout",
     "output_type": "stream",
     "text": [
      "['Manwë', 'Morgoth']\n",
      "['Morgoth', 'Manwë']\n",
      "['Morgoth', 'Manwë', 'Varda']\n",
      "['Varda', 'Manwë', 'Morgoth']\n"
     ]
    }
   ],
   "source": [
    "family_enemy_2hops_query = \"\"\"\n",
    "\n",
    "MATCH p=(a)-[:SPOUSE|SIBLING|HAS_FATHER|HAS_MOTHER*..2]-(b) \n",
    "WHERE (a)-[:ENEMY]-(b) \n",
    "RETURN p\n",
    "\n",
    "\"\"\"\n",
    "r = execute_query(family_enemy_2hops_query)\n",
    "for record in r:\n",
    "    print([node['name'] for node in record['p'].nodes])"
   ]
  },
  {
   "cell_type": "markdown",
   "metadata": {},
   "source": [
    "Not a lot of enemies within the second-degree relatives. We can observe that Varda has taken her husband's stance and is also an enemy with Morgoth. This is an example of a stable triangle or triad. The triangle consists of one positive relationship (SPOUSE) and two negatives (ENEMY). In social network analysis, triangles are used to measure the cohesiveness and structural stability of a network.\n",
    "\n",
    "## Graph data science\n",
    "\n",
    "If you have read any of my previous blog posts, you know that I just have to include some example use cases of graph algorithms from the Graph Data Science library. If you need a quick refresher on how the GDS library works and what is happening behind the scenes, I suggest you read my previous blog post.\n",
    "\n",
    "We will start by projecting the family network. We load all the characters and the familial relationships like SPOUSE, SIBLING, HAS_FATHER, and HAS_MOTHER between them."
   ]
  },
  {
   "cell_type": "code",
   "execution_count": 45,
   "metadata": {},
   "outputs": [
    {
     "data": {
      "text/plain": [
       "<neo4j.work.simple.Result at 0x7fa06cc91630>"
      ]
     },
     "execution_count": 45,
     "metadata": {},
     "output_type": "execute_result"
    }
   ],
   "source": [
    "project_graph = \"\"\"\n",
    "CALL gds.graph.create('family','Character', \n",
    "    ['SPOUSE','SIBLING','HAS_FATHER','HAS_MOTHER'])\n",
    "\"\"\"\n",
    "execute_query(project_graph)"
   ]
  },
  {
   "cell_type": "markdown",
   "metadata": {},
   "source": [
    "### Weakly connected component\n",
    "\n",
    "The weakly connected component algorithm is used to find islands or disconnected components within our network. The following visualizations contain two connected components. The first component is composed of Michael, Mark, and Doug while the second one consists of Alice, Charles, and Bridget.\n",
    "\n",
    "In our case, we will use the weakly connected component algorithm to find islands within the family network. All members within the same family component are related to each other somehow. Could be a cousin of the sister-in-law's grandmother or something more direct like a sibling. To get a rough feeling of the results, we will run the stats mode of the algorithm."
   ]
  },
  {
   "cell_type": "code",
   "execution_count": 46,
   "metadata": {},
   "outputs": [
    {
     "data": {
      "text/html": [
       "<div>\n",
       "<style scoped>\n",
       "    .dataframe tbody tr th:only-of-type {\n",
       "        vertical-align: middle;\n",
       "    }\n",
       "\n",
       "    .dataframe tbody tr th {\n",
       "        vertical-align: top;\n",
       "    }\n",
       "\n",
       "    .dataframe thead th {\n",
       "        text-align: right;\n",
       "    }\n",
       "</style>\n",
       "<table border=\"1\" class=\"dataframe\">\n",
       "  <thead>\n",
       "    <tr style=\"text-align: right;\">\n",
       "      <th></th>\n",
       "      <th>components</th>\n",
       "      <th>p75</th>\n",
       "      <th>p90</th>\n",
       "      <th>mean</th>\n",
       "      <th>max</th>\n",
       "    </tr>\n",
       "  </thead>\n",
       "  <tbody>\n",
       "    <tr>\n",
       "      <th>0</th>\n",
       "      <td>142</td>\n",
       "      <td>1</td>\n",
       "      <td>3</td>\n",
       "      <td>4.91</td>\n",
       "      <td>328</td>\n",
       "    </tr>\n",
       "  </tbody>\n",
       "</table>\n",
       "</div>"
      ],
      "text/plain": [
       "   components  p75  p90  mean  max\n",
       "0         142    1    3  4.91  328"
      ]
     },
     "execution_count": 46,
     "metadata": {},
     "output_type": "execute_result"
    }
   ],
   "source": [
    "wcc_stats_query = \"\"\"\n",
    "\n",
    "CALL gds.wcc.stats('family') \n",
    "YIELD componentCount, \n",
    "      componentDistribution \n",
    "RETURN componentCount as components, \n",
    "       componentDistribution.p75 as p75, \n",
    "       componentDistribution.p90 as p90, \n",
    "       apoc.math.round(componentDistribution.mean,2) as mean, \n",
    "       componentDistribution.max as max\n",
    "\n",
    "\"\"\"\n",
    "\n",
    "r = execute_query(wcc_stats_query)\n",
    "pd.DataFrame([dict(row) for row in r])"
   ]
  },
  {
   "cell_type": "markdown",
   "metadata": {},
   "source": [
    "There are 145 connected components in our graph. More than 75% of the components contain only a single character. This means that around 110 (75% * 145) characters don't have a single familial link to any other character. If they had a single link, the size of the component would be at least two.  The biggest component has 328 members, so that must be one happy family. Let's write back the results and further analyze the family components."
   ]
  },
  {
   "cell_type": "code",
   "execution_count": 47,
   "metadata": {},
   "outputs": [
    {
     "data": {
      "text/plain": [
       "<neo4j.work.simple.Result at 0x7fa08cfdb518>"
      ]
     },
     "execution_count": 47,
     "metadata": {},
     "output_type": "execute_result"
    }
   ],
   "source": [
    "wcc_write_query = \"\"\"\n",
    "\n",
    "CALL gds.wcc.write('family', {writeProperty:'familyComponent'})\n",
    "\n",
    "\"\"\"\n",
    "\n",
    "execute_query(wcc_write_query)"
   ]
  },
  {
   "cell_type": "markdown",
   "metadata": {},
   "source": [
    "We will start by looking at the top five largest family components. The first thing we are interested in is which races are present in the family trees. We'll also add some random members in the results to get a better feeling of the data."
   ]
  },
  {
   "cell_type": "code",
   "execution_count": 48,
   "metadata": {},
   "outputs": [
    {
     "data": {
      "text/html": [
       "<div>\n",
       "<style scoped>\n",
       "    .dataframe tbody tr th:only-of-type {\n",
       "        vertical-align: middle;\n",
       "    }\n",
       "\n",
       "    .dataframe tbody tr th {\n",
       "        vertical-align: top;\n",
       "    }\n",
       "\n",
       "    .dataframe thead th {\n",
       "        text-align: right;\n",
       "    }\n",
       "</style>\n",
       "<table border=\"1\" class=\"dataframe\">\n",
       "  <thead>\n",
       "    <tr style=\"text-align: right;\">\n",
       "      <th></th>\n",
       "      <th>familyComponent</th>\n",
       "      <th>size</th>\n",
       "      <th>random_members</th>\n",
       "      <th>family_race</th>\n",
       "    </tr>\n",
       "  </thead>\n",
       "  <tbody>\n",
       "    <tr>\n",
       "      <th>0</th>\n",
       "      <td>166</td>\n",
       "      <td>328</td>\n",
       "      <td>[Galadriel, Fingolfin, Amras]</td>\n",
       "      <td>[Middle-earth elf, Maiar, men in Tolkien's leg...</td>\n",
       "    </tr>\n",
       "    <tr>\n",
       "      <th>1</th>\n",
       "      <td>0</td>\n",
       "      <td>139</td>\n",
       "      <td>[Donnamira Took, Isengar Took, Fortinbras Took I]</td>\n",
       "      <td>[Hobbit]</td>\n",
       "    </tr>\n",
       "    <tr>\n",
       "      <th>2</th>\n",
       "      <td>249</td>\n",
       "      <td>29</td>\n",
       "      <td>[Thorin II, Gimli, Balin]</td>\n",
       "      <td>[dwarves in Tolkien's legendarium]</td>\n",
       "    </tr>\n",
       "    <tr>\n",
       "      <th>3</th>\n",
       "      <td>371</td>\n",
       "      <td>21</td>\n",
       "      <td>[Cirion, Eradan, Belegorn]</td>\n",
       "      <td>[men in Tolkien's legendarium]</td>\n",
       "    </tr>\n",
       "    <tr>\n",
       "      <th>4</th>\n",
       "      <td>150</td>\n",
       "      <td>6</td>\n",
       "      <td>[Aulë, Oromë, Tulkas]</td>\n",
       "      <td>[Valar]</td>\n",
       "    </tr>\n",
       "  </tbody>\n",
       "</table>\n",
       "</div>"
      ],
      "text/plain": [
       "   familyComponent  size                                     random_members  \\\n",
       "0              166   328                      [Galadriel, Fingolfin, Amras]   \n",
       "1                0   139  [Donnamira Took, Isengar Took, Fortinbras Took I]   \n",
       "2              249    29                          [Thorin II, Gimli, Balin]   \n",
       "3              371    21                         [Cirion, Eradan, Belegorn]   \n",
       "4              150     6                              [Aulë, Oromë, Tulkas]   \n",
       "\n",
       "                                         family_race  \n",
       "0  [Middle-earth elf, Maiar, men in Tolkien's leg...  \n",
       "1                                           [Hobbit]  \n",
       "2                 [dwarves in Tolkien's legendarium]  \n",
       "3                     [men in Tolkien's legendarium]  \n",
       "4                                            [Valar]  "
      ]
     },
     "execution_count": 48,
     "metadata": {},
     "output_type": "execute_result"
    }
   ],
   "source": [
    "top5_families_query = \"\"\"\n",
    "\n",
    "MATCH (c:Character) \n",
    "OPTIONAL MATCH (c)-[:BELONG_TO]->(race) \n",
    "WITH c.familyComponent as familyComponent, \n",
    "     count(*) as size, \n",
    "     collect(c.name) as members, \n",
    "     collect(distinct race.race) as family_race \n",
    "ORDER BY size DESC LIMIT 5 \n",
    "RETURN familyComponent, \n",
    "       size, \n",
    "       members[..3] as random_members, \n",
    "       family_race\n",
    "\"\"\"\n",
    "\n",
    "r = execute_query(top5_families_query)\n",
    "pd.DataFrame([dict(row) for row in r])"
   ]
  },
  {
   "cell_type": "markdown",
   "metadata": {},
   "source": [
    "As mentioned, the largest family has 328 members of various races ranging from elves to humans and even Maiar. It appears that elven and human lifes are quite intertwined in the Middle-earth. Also their legs. There is a reason why the half-elven race even exists. Other races like hobbits and dwarves stick more to their own kind.\n",
    "\n",
    "Let's examine the interracial marriages in the largest community."
   ]
  },
  {
   "cell_type": "code",
   "execution_count": 50,
   "metadata": {},
   "outputs": [
    {
     "data": {
      "text/html": [
       "<div>\n",
       "<style scoped>\n",
       "    .dataframe tbody tr th:only-of-type {\n",
       "        vertical-align: middle;\n",
       "    }\n",
       "\n",
       "    .dataframe tbody tr th {\n",
       "        vertical-align: top;\n",
       "    }\n",
       "\n",
       "    .dataframe thead th {\n",
       "        text-align: right;\n",
       "    }\n",
       "</style>\n",
       "<table border=\"1\" class=\"dataframe\">\n",
       "  <thead>\n",
       "    <tr style=\"text-align: right;\">\n",
       "      <th></th>\n",
       "      <th>spouse_1</th>\n",
       "      <th>race_1</th>\n",
       "      <th>spouse_2</th>\n",
       "      <th>race_2</th>\n",
       "    </tr>\n",
       "  </thead>\n",
       "  <tbody>\n",
       "    <tr>\n",
       "      <th>0</th>\n",
       "      <td>Melian</td>\n",
       "      <td>Maiar</td>\n",
       "      <td>Thingol</td>\n",
       "      <td>Middle-earth elf</td>\n",
       "    </tr>\n",
       "    <tr>\n",
       "      <th>1</th>\n",
       "      <td>Beren Erchamion</td>\n",
       "      <td>men in Tolkien's legendarium</td>\n",
       "      <td>Lúthien</td>\n",
       "      <td>Middle-earth elf</td>\n",
       "    </tr>\n",
       "    <tr>\n",
       "      <th>2</th>\n",
       "      <td>Tuor</td>\n",
       "      <td>men in Tolkien's legendarium</td>\n",
       "      <td>Idril</td>\n",
       "      <td>Middle-earth elf</td>\n",
       "    </tr>\n",
       "    <tr>\n",
       "      <th>3</th>\n",
       "      <td>Arwen</td>\n",
       "      <td>half-elven</td>\n",
       "      <td>Aragorn</td>\n",
       "      <td>men in Tolkien's legendarium</td>\n",
       "    </tr>\n",
       "    <tr>\n",
       "      <th>4</th>\n",
       "      <td>Elrond</td>\n",
       "      <td>half-elven</td>\n",
       "      <td>Celebrían</td>\n",
       "      <td>Middle-earth elf</td>\n",
       "    </tr>\n",
       "    <tr>\n",
       "      <th>5</th>\n",
       "      <td>Dior Eluchíl</td>\n",
       "      <td>half-elven</td>\n",
       "      <td>Nimloth</td>\n",
       "      <td>Middle-earth elf</td>\n",
       "    </tr>\n",
       "  </tbody>\n",
       "</table>\n",
       "</div>"
      ],
      "text/plain": [
       "          spouse_1                        race_1   spouse_2  \\\n",
       "0           Melian                         Maiar    Thingol   \n",
       "1  Beren Erchamion  men in Tolkien's legendarium    Lúthien   \n",
       "2             Tuor  men in Tolkien's legendarium      Idril   \n",
       "3            Arwen                    half-elven    Aragorn   \n",
       "4           Elrond                    half-elven  Celebrían   \n",
       "5     Dior Eluchíl                    half-elven    Nimloth   \n",
       "\n",
       "                         race_2  \n",
       "0              Middle-earth elf  \n",
       "1              Middle-earth elf  \n",
       "2              Middle-earth elf  \n",
       "3  men in Tolkien's legendarium  \n",
       "4              Middle-earth elf  \n",
       "5              Middle-earth elf  "
      ]
     },
     "execution_count": 50,
     "metadata": {},
     "output_type": "execute_result"
    }
   ],
   "source": [
    "ir_query = \"\"\"\n",
    "\n",
    "MATCH (c:Character) \n",
    "WHERE c.familyComponent = 166 // fix the family component \n",
    "MATCH p=(race)<-[:BELONG_TO]-(c)-[:SPOUSE]-(other)-[:BELONG_TO]->(other_race) \n",
    "WHERE race <> other_race AND id(c) > id(other) \n",
    "RETURN c.name as spouse_1, \n",
    "       race.race as race_1, \n",
    "       other.name as spouse_2, \n",
    "       other_race.race as race_2\n",
    "\"\"\"\n",
    "\n",
    "r = execute_query(ir_query)\n",
    "pd.DataFrame([dict(row) for row in r])"
   ]
  },
  {
   "cell_type": "markdown",
   "metadata": {},
   "source": [
    "First of all, I didn't know that Elrond was a half-elf. It seems like the human and elven \"alliance\" is as old as time itself. I was mainly expecting to see Arwen and Aragorn as I remember that from the movies. It would be interesting to learn how far back do half-elves go. Let's look who are the half-elves with the most descendants."
   ]
  },
  {
   "cell_type": "code",
   "execution_count": 52,
   "metadata": {},
   "outputs": [
    {
     "data": {
      "text/html": [
       "<div>\n",
       "<style scoped>\n",
       "    .dataframe tbody tr th:only-of-type {\n",
       "        vertical-align: middle;\n",
       "    }\n",
       "\n",
       "    .dataframe tbody tr th {\n",
       "        vertical-align: top;\n",
       "    }\n",
       "\n",
       "    .dataframe thead th {\n",
       "        text-align: right;\n",
       "    }\n",
       "</style>\n",
       "<table border=\"1\" class=\"dataframe\">\n",
       "  <thead>\n",
       "    <tr style=\"text-align: right;\">\n",
       "      <th></th>\n",
       "      <th>character</th>\n",
       "      <th>descendants</th>\n",
       "    </tr>\n",
       "  </thead>\n",
       "  <tbody>\n",
       "    <tr>\n",
       "      <th>0</th>\n",
       "      <td>Dior Eluchíl</td>\n",
       "      <td>11</td>\n",
       "    </tr>\n",
       "    <tr>\n",
       "      <th>1</th>\n",
       "      <td>Elwing</td>\n",
       "      <td>10</td>\n",
       "    </tr>\n",
       "    <tr>\n",
       "      <th>2</th>\n",
       "      <td>Eärendil</td>\n",
       "      <td>10</td>\n",
       "    </tr>\n",
       "    <tr>\n",
       "      <th>3</th>\n",
       "      <td>Elros</td>\n",
       "      <td>9</td>\n",
       "    </tr>\n",
       "    <tr>\n",
       "      <th>4</th>\n",
       "      <td>Elrond</td>\n",
       "      <td>2</td>\n",
       "    </tr>\n",
       "  </tbody>\n",
       "</table>\n",
       "</div>"
      ],
      "text/plain": [
       "      character  descendants\n",
       "0  Dior Eluchíl           11\n",
       "1        Elwing           10\n",
       "2      Eärendil           10\n",
       "3         Elros            9\n",
       "4        Elrond            2"
      ]
     },
     "execution_count": 52,
     "metadata": {},
     "output_type": "execute_result"
    }
   ],
   "source": [
    "oldest_halfelf_query = \"\"\"\n",
    "\n",
    "MATCH (c:Character)\n",
    "WHERE (c)-[:BELONG_TO]->(:Race{race:'half-elven'})\n",
    "MATCH p=(c)<-[:HAS_FATHER|HAS_MOTHER*..20]-(end)\n",
    "WHERE NOT (end)<-[:HAS_FATHER|:HAS_MOTHER]-()\n",
    "WITH c, max(length(p)) as descendants\n",
    "ORDER BY descendants DESC\n",
    "LIMIT 5\n",
    "RETURN c.name as character,\n",
    "       descendants\n",
    "\n",
    "\"\"\"\n",
    "\n",
    "r = execute_query(oldest_halfelf_query)\n",
    "pd.DataFrame([dict(row) for row in r])"
   ]
  },
  {
   "cell_type": "markdown",
   "metadata": {},
   "source": [
    "It seems like Dior Eluchíl is the oldest recorded half-elf. I inspected results on LOTR fandom site, and it seems we are correct. Dior Eluchil was born in the First Age in the year 470. There are a couple of other half-elves who were born within 50 years of Dior.\n",
    "\n",
    "### Betweenness centrality\n",
    "\n",
    "We will also take a look at the betweenness centrality algorithm. It is used to find bridge nodes between different communities. If we take a look at the following visualization, we can observe that Captain America has the highest betweenness centrality score. That is because he is the main bridge in the network and connects the left-hand side of the network to the right-hand side. The second bridge in the network is the Beast. We can easily see that all the information exchanged between the main and right-hand side of the network has to go through him to reach the right-hand side.\n",
    "\n",
    "We will look for the bridge characters in the largest family network. My guess would be that spouses in an interracial marriage will come out on top. This is because all the communication between the races flows through them. We've seen that there are only six interracial marriages, so probably some of them will come out on top."
   ]
  },
  {
   "cell_type": "code",
   "execution_count": 53,
   "metadata": {},
   "outputs": [
    {
     "data": {
      "text/html": [
       "<div>\n",
       "<style scoped>\n",
       "    .dataframe tbody tr th:only-of-type {\n",
       "        vertical-align: middle;\n",
       "    }\n",
       "\n",
       "    .dataframe tbody tr th {\n",
       "        vertical-align: top;\n",
       "    }\n",
       "\n",
       "    .dataframe thead th {\n",
       "        text-align: right;\n",
       "    }\n",
       "</style>\n",
       "<table border=\"1\" class=\"dataframe\">\n",
       "  <thead>\n",
       "    <tr style=\"text-align: right;\">\n",
       "      <th></th>\n",
       "      <th>character</th>\n",
       "      <th>centrality</th>\n",
       "    </tr>\n",
       "  </thead>\n",
       "  <tbody>\n",
       "    <tr>\n",
       "      <th>0</th>\n",
       "      <td>Arwen</td>\n",
       "      <td>45400.00000</td>\n",
       "    </tr>\n",
       "    <tr>\n",
       "      <th>1</th>\n",
       "      <td>Aragorn</td>\n",
       "      <td>44884.00000</td>\n",
       "    </tr>\n",
       "    <tr>\n",
       "      <th>2</th>\n",
       "      <td>Arathorn II</td>\n",
       "      <td>43524.00000</td>\n",
       "    </tr>\n",
       "    <tr>\n",
       "      <th>3</th>\n",
       "      <td>Arador</td>\n",
       "      <td>43240.00000</td>\n",
       "    </tr>\n",
       "    <tr>\n",
       "      <th>4</th>\n",
       "      <td>Argonui</td>\n",
       "      <td>42952.00000</td>\n",
       "    </tr>\n",
       "    <tr>\n",
       "      <th>5</th>\n",
       "      <td>Arathorn I</td>\n",
       "      <td>42660.00000</td>\n",
       "    </tr>\n",
       "    <tr>\n",
       "      <th>6</th>\n",
       "      <td>Arassuil</td>\n",
       "      <td>42364.00000</td>\n",
       "    </tr>\n",
       "    <tr>\n",
       "      <th>7</th>\n",
       "      <td>Arahad II</td>\n",
       "      <td>42064.00000</td>\n",
       "    </tr>\n",
       "    <tr>\n",
       "      <th>8</th>\n",
       "      <td>Aravorn</td>\n",
       "      <td>41760.00000</td>\n",
       "    </tr>\n",
       "    <tr>\n",
       "      <th>9</th>\n",
       "      <td>Elrond</td>\n",
       "      <td>41644.77381</td>\n",
       "    </tr>\n",
       "  </tbody>\n",
       "</table>\n",
       "</div>"
      ],
      "text/plain": [
       "     character   centrality\n",
       "0        Arwen  45400.00000\n",
       "1      Aragorn  44884.00000\n",
       "2  Arathorn II  43524.00000\n",
       "3       Arador  43240.00000\n",
       "4      Argonui  42952.00000\n",
       "5   Arathorn I  42660.00000\n",
       "6     Arassuil  42364.00000\n",
       "7    Arahad II  42064.00000\n",
       "8      Aravorn  41760.00000\n",
       "9       Elrond  41644.77381"
      ]
     },
     "execution_count": 53,
     "metadata": {},
     "output_type": "execute_result"
    }
   ],
   "source": [
    "betwenness_centrality_query = \"\"\"\n",
    "\n",
    "CALL gds.alpha.betweenness.stream({ \n",
    "    nodeQuery:\"MATCH (n:Character) WHERE n.familyComponent = 166 \n",
    "               RETURN id(n) as id\", \n",
    "    relationshipQuery:\"MATCH (s:Character)-[:HAS_FATHER|HAS_MOTHER|SPOUSE|SIBLING]-(t:Character) \n",
    "                       RETURN id(s) as source, id(t) as target\", \n",
    "    validateRelationships:false})\n",
    "YIELD nodeId, centrality\n",
    "RETURN gds.util.asNode(nodeId).name as character,\n",
    "        centrality\n",
    "ORDER BY centrality DESC \n",
    "LIMIT 10\n",
    "\n",
    "\"\"\"\n",
    "\n",
    "r = execute_query(betwenness_centrality_query)\n",
    "pd.DataFrame([dict(row) for row in r])"
   ]
  },
  {
   "cell_type": "markdown",
   "metadata": {},
   "source": [
    "Interesting to see that Arwen and Aragorn come out on top. Not exactly sure why, but I keep on thinking that they are the modern Romeo and Juliet that have formed an alliance between men and half-elves with their marriage. I have no idea how the JRR Tolkien system for generating names worked, but it seems a bit biased towards names starting with an A."
   ]
  },
  {
   "cell_type": "code",
   "execution_count": null,
   "metadata": {},
   "outputs": [],
   "source": []
  }
 ],
 "metadata": {
  "kernelspec": {
   "display_name": "scispacy",
   "language": "python",
   "name": "scispacy"
  },
  "language_info": {
   "codemirror_mode": {
    "name": "ipython",
    "version": 3
   },
   "file_extension": ".py",
   "mimetype": "text/x-python",
   "name": "python",
   "nbconvert_exporter": "python",
   "pygments_lexer": "ipython3",
   "version": "3.6.10"
  }
 },
 "nbformat": 4,
 "nbformat_minor": 2
}
